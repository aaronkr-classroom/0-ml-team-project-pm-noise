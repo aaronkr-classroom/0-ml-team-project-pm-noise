{
  "nbformat": 4,
  "nbformat_minor": 0,
  "metadata": {
    "colab": {
      "provenance": [],
      "gpuType": "T4"
    },
    "kernelspec": {
      "name": "python3",
      "display_name": "Python 3"
    },
    "language_info": {
      "name": "python"
    },
    "accelerator": "GPU"
  },
  "cells": [
    {
      "cell_type": "code",
      "source": [
        "import os\n",
        "import tensorflow as tf\n",
        "from tensorflow.keras.applications import DenseNet121\n",
        "from tensorflow.keras.layers import Dense, Flatten, ReLU\n",
        "from tensorflow.keras.models import Model\n",
        "from tensorflow.keras.preprocessing.image import ImageDataGenerator\n",
        "import matplotlib.pyplot as plt\n",
        "\n",
        "# 데이터 디렉토리 설정\n",
        "train_dir = '/content/Dataset_4_class/Train'\n",
        "test_dir = '/content/Dataset_4_class/Test'\n",
        "\n",
        "# .ipynb_checkpoints를 제외한 클래스 디렉토리 목록 생성\n",
        "train_classes = [folder for folder in os.listdir(train_dir)\n",
        "                 if os.path.isdir(os.path.join(train_dir, folder)) and folder != '.ipynb_checkpoints']\n",
        "\n",
        "test_classes = [folder for folder in os.listdir(test_dir)\n",
        "                if os.path.isdir(os.path.join(test_dir, folder)) and folder != '.ipynb_checkpoints']\n",
        "\n",
        "print(\"Filtered Train Classes:\", train_classes)\n",
        "print(\"Filtered Test Classes:\", test_classes)\n",
        "\n",
        "# 데이터 증강 및 로드\n",
        "data_gen = ImageDataGenerator(\n",
        "    rescale=1./255,\n",
        "    rotation_range=20,\n",
        "    width_shift_range=0.1,\n",
        "    height_shift_range=0.1,\n",
        "    horizontal_flip=True\n",
        ")\n",
        "\n",
        "train_data = data_gen.flow_from_directory(\n",
        "    train_dir,\n",
        "    target_size=(128, 128),\n",
        "    batch_size=8,\n",
        "    class_mode='categorical',  # 다중 클래스 분류\n",
        "    classes=train_classes  # 필터링된 클래스 사용\n",
        ")\n",
        "\n",
        "test_data = data_gen.flow_from_directory(\n",
        "    test_dir,\n",
        "    target_size=(128, 128),\n",
        "    batch_size=8,\n",
        "    class_mode='categorical',  # 다중 클래스 분류\n",
        "    shuffle=False,\n",
        "    classes=test_classes  # 필터링된 클래스 사용\n",
        ")\n",
        "\n",
        "# DenseNet121 모델 정의 (처음부터 학습)\n",
        "base_model = DenseNet121(\n",
        "    include_top=False,\n",
        "    weights=None,  # 사전 학습된 가중치 사용 안 함\n",
        "    input_shape=(128, 128, 3)\n",
        ")\n",
        "\n",
        "# 모델 구조 커스터마이징\n",
        "x = base_model.output\n",
        "x = Flatten()(x)\n",
        "x = Dense(256)(x)\n",
        "x = ReLU()(x)\n",
        "x = Dense(len(train_classes), activation='softmax')(x)  # 클래스 수에 맞게 노드 변경\n",
        "model = Model(inputs=base_model.input, outputs=x)\n",
        "\n",
        "# 모델 컴파일\n",
        "model.compile(\n",
        "    optimizer=tf.keras.optimizers.Adam(learning_rate=0.0001),\n",
        "    loss='categorical_crossentropy',  # 다중 클래스 분류 손실 함수\n",
        "    metrics=['accuracy']\n",
        ")\n",
        "\n",
        "# 모델 학습\n",
        "history = model.fit(\n",
        "    train_data,\n",
        "    epochs=1,\n",
        "    batch_size=8\n",
        ")\n",
        "\n",
        "# 모델 평가\n",
        "test_loss, test_accuracy = model.evaluate(test_data)\n",
        "print(f\"Test Loss: {test_loss}\")\n",
        "print(f\"Test Accuracy: {test_accuracy}\")"
      ],
      "metadata": {
        "colab": {
          "base_uri": "https://localhost:8080/"
        },
        "id": "jaGVEr1Ky0ua",
        "outputId": "b31b80a5-f5ca-4468-b298-0c95375e3991"
      },
      "execution_count": 1,
      "outputs": [
        {
          "output_type": "stream",
          "name": "stdout",
          "text": [
            "Filtered Train Classes: ['BUS', 'Truck', 'Common', 'Bike']\n",
            "Filtered Test Classes: ['BUS', 'Truck', 'Common', 'Bike']\n",
            "Found 3697 images belonging to 4 classes.\n",
            "Found 3591 images belonging to 4 classes.\n"
          ]
        },
        {
          "output_type": "stream",
          "name": "stderr",
          "text": [
            "/usr/local/lib/python3.10/dist-packages/keras/src/trainers/data_adapters/py_dataset_adapter.py:122: UserWarning: Your `PyDataset` class should call `super().__init__(**kwargs)` in its constructor. `**kwargs` can include `workers`, `use_multiprocessing`, `max_queue_size`. Do not pass these arguments to `fit()`, as they will be ignored.\n",
            "  self._warn_if_super_not_called()\n"
          ]
        },
        {
          "output_type": "stream",
          "name": "stdout",
          "text": [
            "\u001b[1m463/463\u001b[0m \u001b[32m━━━━━━━━━━━━━━━━━━━━\u001b[0m\u001b[37m\u001b[0m \u001b[1m320s\u001b[0m 258ms/step - accuracy: 0.7295 - loss: 0.7122\n",
            "\u001b[1m449/449\u001b[0m \u001b[32m━━━━━━━━━━━━━━━━━━━━\u001b[0m\u001b[37m\u001b[0m \u001b[1m44s\u001b[0m 77ms/step - accuracy: 0.1087 - loss: 5.0465\n",
            "Test Loss: 4.383064270019531\n",
            "Test Accuracy: 0.3040935695171356\n"
          ]
        }
      ]
    }
  ]
}